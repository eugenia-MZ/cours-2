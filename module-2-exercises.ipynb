{
 "cells": [
  {
   "cell_type": "markdown",
   "metadata": {},
   "source": [
    "# Module 2: Data Structure Manipulation\n",
    "\n",
    "Practice working with lists, tuples, dictionaries, and sets in Python."
   ]
  },
  {
   "cell_type": "markdown",
   "metadata": {},
   "source": [
    "## Exercise 1: Lists\n",
    "\n",
    "Create and manipulate lists."
   ]
  },
  {
   "cell_type": "code",
   "execution_count": null,
   "metadata": {},
   "outputs": [],
   "source": [
    "# TODO: Create a list of your favorite fruits\n",
    "\n",
    "# TODO: Add a new fruit to the end of the list\n",
    "\n",
    "# TODO: Remove the second fruit from the list\n",
    "\n",
    "# TODO: Sort the list alphabetically\n",
    "\n",
    "# TODO: Create a new list with the first three fruits\n",
    "\n",
    "# Print the original list and the new list\n"
   ]
  },
  {
   "cell_type": "markdown",
   "metadata": {},
   "source": [
    "## Exercise 2: Tuples\n",
    "\n",
    "Work with tuples and their methods."
   ]
  },
  {
   "cell_type": "code",
   "execution_count": null,
   "metadata": {},
   "outputs": [],
   "source": [
    "# TODO: Create a tuple with your favorite colors\n",
    "\n",
    "# TODO: Try to modify one of the colors (this should raise an error)\n",
    "\n",
    "# TODO: Count how many times a specific color appears in the tuple\n",
    "\n",
    "# TODO: Find the index of a specific color\n",
    "\n",
    "# TODO: Create a new tuple by concatenating two existing tuples\n",
    "\n",
    "# Print the results of each operation\n"
   ]
  },
  {
   "cell_type": "markdown",
   "metadata": {},
   "source": [
    "## Exercise 3: Dictionaries\n",
    "\n",
    "Create and manipulate dictionaries."
   ]
  },
  {
   "cell_type": "code",
   "execution_count": null,
   "metadata": {},
   "outputs": [],
   "source": [
    "# TODO: Create a dictionary representing a person (name, age, city)\n",
    "\n",
    "# TODO: Add a new key-value pair for the person's occupation\n",
    "\n",
    "# TODO: Update the person's age\n",
    "\n",
    "# TODO: Remove the 'city' key-value pair\n",
    "\n",
    "# TODO: Print all keys, then all values\n",
    "\n",
    "# TODO: Check if a specific key exists in the dictionary\n",
    "\n",
    "# Print the final dictionary\n"
   ]
  },
  {
   "cell_type": "markdown",
   "metadata": {},
   "source": [
    "## Exercise 4: Sets\n",
    "\n",
    "Work with sets and set operations."
   ]
  },
  {
   "cell_type": "code",
   "execution_count": null,
   "metadata": {},
   "outputs": [],
   "source": [
    "# TODO: Create two sets of numbers\n",
    "\n",
    "# TODO: Find the union of the two sets\n",
    "\n",
    "# TODO: Find the intersection of the two sets\n",
    "\n",
    "# TODO: Find the difference between the first and second set\n",
    "\n",
    "# TODO: Add a new element to one of the sets\n",
    "\n",
    "# TODO: Remove an element from one of the sets\n",
    "\n",
    "# Print the results of each operation\n"
   ]
  },
  {
   "cell_type": "markdown",
   "metadata": {},
   "source": [
    "## Exercise 5: Nested Data Structures\n",
    "\n",
    "Work with complex, nested data structures."
   ]
  },
  {
   "cell_type": "code",
   "execution_count": null,
   "metadata": {},
   "outputs": [],
   "source": [
    "# TODO: Create a list of dictionaries representing books (title, author, year)\n",
    "\n",
    "# TODO: Add a new book to the list\n",
    "\n",
    "# TODO: Sort the list of books by year\n",
    "\n",
    "# TODO: Create a dictionary where keys are authors and values are lists of their books\n",
    "\n",
    "# TODO: Print all books by a specific author\n",
    "\n",
    "# Print the final nested data structure\n"
   ]
  }
 ],
 "metadata": {
  "kernelspec": {
   "display_name": "Python 3 (ipykernel)",
   "language": "python",
   "name": "python3"
  },
  "language_info": {
   "codemirror_mode": {
    "name": "ipython",
    "version": 3
   },
   "file_extension": ".py",
   "mimetype": "text/x-python",
   "name": "python",
   "nbconvert_exporter": "python",
   "pygments_lexer": "ipython3",
   "version": "3.12.4"
  }
 },
 "nbformat": 4,
 "nbformat_minor": 4
}
